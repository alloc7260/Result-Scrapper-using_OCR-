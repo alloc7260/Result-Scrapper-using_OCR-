{
  "nbformat": 4,
  "nbformat_minor": 0,
  "metadata": {
    "colab": {
      "provenance": []
    },
    "kernelspec": {
      "name": "python3",
      "display_name": "Python 3"
    },
    "language_info": {
      "name": "python"
    },
    "gpuClass": "standard"
  },
  "cells": [
    {
      "cell_type": "code",
      "source": [
        "%%capture\n",
        "!pip install imgkit wkhtmltopdf\n",
        "!wget https://github.com/wkhtmltopdf/packaging/releases/download/0.12.6-1/wkhtmltox_0.12.6-1.bionic_amd64.deb\n",
        "!mv wkhtmltox_0.12.6-1.bionic_amd64.deb /usr/bin\n",
        "!sudo apt install /usr/bin/wkhtmltox_0.12.6-1.bionic_amd64.deb\n",
        "!rm -rf rescss_min.css NewLogo.jpg /tmp/Style /tmp/Images\n",
        "!mkdir -p /tmp/Style\n",
        "!mkdir -p /tmp/Images\n",
        "!wget -O /tmp/Style/rescss_min.css https://www.gturesults.in/Style/rescss_min.css\n",
        "!wget -O /tmp/Images/NewLogo.jpg https://www.gturesults.in/Images/NewLogo.jpg"
      ],
      "metadata": {
        "id": "WDIOXW2fR2gE"
      },
      "execution_count": 4,
      "outputs": []
    },
    {
      "cell_type": "code",
      "source": [
        "import re\n",
        "import io\n",
        "import imgkit\n",
        "import requests\n",
        "from PIL import Image\n",
        "from urllib.parse import quote\n",
        "from multiprocessing import Pool\n",
        "from IPython.display import display"
      ],
      "metadata": {
        "id": "yRrOXaVAIOQH"
      },
      "execution_count": 5,
      "outputs": []
    },
    {
      "cell_type": "code",
      "source": [
        "s = requests.Session()\n",
        "url = \"https://www.gturesults.in/Handler.ashx\"\n",
        "r = s.get(url)\n",
        "display(Image.open(io.BytesIO(r.content)))\n",
        "re.search(r'ASP.NET_SessionId=[^;]+', r.headers['Set-Cookie']).group()"
      ],
      "metadata": {
        "colab": {
          "base_uri": "https://localhost:8080/",
          "height": 76
        },
        "id": "8Q5sonJt1YlO",
        "outputId": "383d2235-34e9-49b1-f666-fb9ec3721c46"
      },
      "execution_count": 3,
      "outputs": [
        {
          "output_type": "display_data",
          "data": {
            "text/plain": [
              "<PIL.JpegImagePlugin.JpegImageFile image mode=RGB size=120x40 at 0x7FA61D46AAD0>"
            ],
            "image/png": "[encoded data removed]"
          },
          "metadata": {}
        },
        {
          "output_type": "execute_result",
          "data": {
            "text/plain": [
              "'ASP.NET_SessionId=gwpwlkyn3wodnwywk3iqa4up'"
            ],
            "application/vnd.google.colaboratory.intrinsic+json": {
              "type": "string"
            }
          },
          "metadata": {},
          "execution_count": 3
        }
      ]
    },
    {
      "cell_type": "code",
      "source": [
        "c = \"9522f\""
      ],
      "metadata": {
        "id": "lrOXyNlMw5a5"
      },
      "execution_count": 6,
      "outputs": []
    },
    {
      "cell_type": "code",
      "source": [
        "exam = quote(\"3700$S2023$2023-06-17$current$0\")"
      ],
      "metadata": {
        "id": "dKqlrpb_tJ4Q"
      },
      "execution_count": 7,
      "outputs": []
    },
    {
      "cell_type": "code",
      "source": [
        "url = \"https://www.gturesults.in/Default.aspx\"\n",
        "\n",
        "headers = {\n",
        "    \"Host\": \"www.gturesults.in\",\n",
        "    \"Content-Length\": \"1288\",\n",
        "    \"Cache-Control\": \"max-age=0\",\n",
        "    \"Sec-Ch-Ua\": \"\\\"Not A(Brand\\\";v=\\\"24\\\", \\\"Chromium\\\";v=\\\"110\\\"\",\n",
        "    \"Sec-Ch-Ua-Mobile\": \"?0\",\n",
        "    \"Sec-Ch-Ua-Platform\": \"\\\"Windows\\\"\",\n",
        "    \"Upgrade-Insecure-Requests\": \"1\",\n",
        "    \"Origin\": \"https://www.gturesults.in\",\n",
        "    \"Content-Type\": \"application/x-www-form-urlencoded\",\n",
        "    \"User-Agent\": \"Mozilla/5.0 (Windows NT 10.0; Win64; x64) AppleWebKit/537.36 (KHTML, like Gecko) Chrome/110.0.5481.78 Safari/537.36\",\n",
        "    \"Accept\": \"text/html,application/xhtml+xml,application/xml;q=0.9,image/avif,image/webp,image/apng,*/*;q=0.8,application/signed-exchange;v=b3;q=0.7\",\n",
        "    \"Sec-Fetch-Site\": \"same-origin\",\n",
        "    \"Sec-Fetch-Mode\": \"navigate\",\n",
        "    \"Sec-Fetch-User\": \"?1\",\n",
        "    \"Sec-Fetch-Dest\": \"document\",\n",
        "    \"Referer\": \"https://www.gturesults.in/Default.aspx?ext=S2023\",\n",
        "    \"Accept-Encoding\": \"gzip, deflate\",\n",
        "    \"Accept-Language\": \"en-US,en;q=0.9\",\n",
        "    \"Cookie\": re.search(r'ASP.NET_SessionId=[^;]+', r.headers['Set-Cookie']).group()\n",
        "}\n",
        "\n",
        "querystring = {\"ext\":\"S2023\"}\n",
        "\n",
        "kitoptions = {\n",
        "  \"enable-local-file-access\": None ,\n",
        "}"
      ],
      "metadata": {
        "id": "hAvP3ge_S0VJ"
      },
      "execution_count": 8,
      "outputs": []
    },
    {
      "cell_type": "code",
      "source": [
        "!rm -rf op\n",
        "!mkdir op"
      ],
      "metadata": {
        "id": "pMS5GYHWS7yk"
      },
      "execution_count": 9,
      "outputs": []
    },
    {
      "cell_type": "code",
      "source": [
        "def vtodur(enr):\n",
        "    try:\n",
        "        payload = f\"__EVENTTARGET=&__EVENTARGUMENT=&__VIEWSTATE=%2FwEPDwUKLTQ2MTAzMzcxNQ9kFgICAw9kFgwCAQ8WAh4EVGV4dAWTASA8YSBzdHlsZT0iY29sb3I6IGdyYXk7IGZvbnQtc2l6ZTogMTBweDsiIGhyZWY9IkRlZmF1bHQuYXNweD9leHQ9Q3VycmVudCI%2BQXJjaGl2ZTwvYT4gIHwgQ3VycmVudCA8c3BhbiBzdHlsZT0iY29sb3I6IG1hcm9vbjsiPiBbU3VtbWVyIDIwMjNdPC9zcGFuPmQCAw8PFgIeB1Zpc2libGVoZGQCBQ8WAh8BaGQCBw8PFgIfAAULU3VtbWVyIDIwMjNkZAIJDxBkZBYAZAILDxAPFgYeDkRhdGFHcm91cEZpZWxkBQZCUkFOQ0geDURhdGFUZXh0RmllbGQFBUVYQU1OHg5EYXRhVmFsdWVGaWVsZAUGRVhBTUlEZDKOAwABAAAA%2F%2F%2F%2F%2FwEAAAAAAAAADAIAAABBT3B0aW9uQ3RybCwgVmVyc2lvbj0xLjAuMC4wLCBDdWx0dXJlPW5ldXRyYWwsIFB1YmxpY0tleVRva2VuPW51bGwFAQAAAB5WaWtTZXJ2ZXJDb250cm9sLk9wdGlvblRyaXBsZXQEAAAABUZpcnN0BlNlY29uZAVUaGlyZAZGb3VydGgCAgICAgAAAAgIAgAAAAkDAAAACQQAAAAJBQAAABEDAAAAAgAAAAYGAAAAKi4uLi4uQkUgU0VNIDggLSBSZWd1bGFyIChNQVkgMjAyMykgcGhhc2UgSQYHAAAAKy4uLi4uQkUgU0VNIDggLSBSZWd1bGFyIChNQVkgMjAyMykgcGhhc2UgSUkRBAAAAAIAAAAGCAAAAB8zNzAwJFMyMDIzJDIwMjMtMDYtMTckY3VycmVudCQwBgkAAAAfMzcwMSRTMjAyMyQyMDIzLTA2LTE3JGN1cnJlbnQkMBEFAAAAAgAAAAYKAAAAAkJFBgsAAAACQkULZGQYAQUeX19Db250cm9sc1JlcXVpcmVQb3N0QmFja0tleV9fFgEFBmltZ3JlZn1X4UxNJryqAa0VagzmtpRJC3Bc32emV1Z%2BlPrqflng&__VIEWSTATEGENERATOR=CA0B0334&ddlbatch={exam}&txtenroll={enr}&txtSheetNo=&CodeNumberTextBox={c}&btnSearch=Search\"\n",
        "\n",
        "        imgkit.from_string(requests.request(\"POST\", url, data=payload, headers=headers, params=querystring).text,f'/content/op/{enr}.jpg',options=kitoptions)\n",
        "    except OSError as e:\n",
        "        pass\n",
        "\n",
        "with Pool(5) as pp:\n",
        "  pp.map(vtodur,range(190280111001,190280111160))"
      ],
      "metadata": {
        "id": "oZ_Dorc0gTjM"
      },
      "execution_count": 10,
      "outputs": []
    },
    {
      "cell_type": "code",
      "source": [
        "%%capture\n",
        "!zip -r op.zip op"
      ],
      "metadata": {
        "id": "ZGwbqIEJijew"
      },
      "execution_count": 11,
      "outputs": []
    },
    {
      "cell_type": "markdown",
      "source": [
        "👈 download <font color='yellow'>op.zip</font> from left side bar by double clicking it"
      ],
      "metadata": {
        "id": "rmjRmivtlYK4"
      }
    }
  ]
}