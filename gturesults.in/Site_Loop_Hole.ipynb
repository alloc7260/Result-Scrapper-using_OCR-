{
  "nbformat": 4,
  "nbformat_minor": 0,
  "metadata": {
    "colab": {
      "provenance": []
    },
    "kernelspec": {
      "name": "python3",
      "display_name": "Python 3"
    },
    "language_info": {
      "name": "python"
    },
    "gpuClass": "standard"
  },
  "cells": [
    {
      "cell_type": "code",
      "source": [
        "%%capture\n",
        "!pip install imgkit wkhtmltopdf\n",
        "!wget https://github.com/wkhtmltopdf/packaging/releases/download/0.12.6-1/wkhtmltox_0.12.6-1.bionic_amd64.deb\n",
        "!mv wkhtmltox_0.12.6-1.bionic_amd64.deb /usr/bin\n",
        "!sudo apt install /usr/bin/wkhtmltox_0.12.6-1.bionic_amd64.deb\n",
        "!rm -rf rescss_min.css NewLogo.jpg /tmp/Style /tmp/Images\n",
        "!mkdir -p /tmp/Style\n",
        "!mkdir -p /tmp/Images\n",
        "!wget -O /tmp/Style/rescss_min.css https://www.gturesults.in/Style/rescss_min.css\n",
        "!wget -O /tmp/Images/NewLogo.jpg https://www.gturesults.in/Images/NewLogo.jpg"
      ],
      "metadata": {
        "id": "WDIOXW2fR2gE"
      },
      "execution_count": 1,
      "outputs": []
    },
    {
      "cell_type": "code",
      "source": [
        "import re\n",
        "import io\n",
        "import imgkit\n",
        "import requests\n",
        "from PIL import Image\n",
        "from IPython.display import display\n",
        "from multiprocessing import Pool"
      ],
      "metadata": {
        "id": "yRrOXaVAIOQH"
      },
      "execution_count": 2,
      "outputs": []
    },
    {
      "cell_type": "code",
      "source": [
        "s = requests.Session()\n",
        "url = \"https://www.gturesults.in/Handler.ashx\"\n",
        "r = s.get(url)\n",
        "display(Image.open(io.BytesIO(r.content)))\n",
        "re.search(r'ASP.NET_SessionId=[^;]+', r.headers['Set-Cookie']).group()"
      ],
      "metadata": {
        "colab": {
          "base_uri": "https://localhost:8080/",
          "height": 76
        },
        "id": "8Q5sonJt1YlO",
        "outputId": "3a0549de-7837-4885-fa55-851b061b3b52"
      },
      "execution_count": 3,
      "outputs": [
        {
          "output_type": "display_data",
          "data": {
            "text/plain": [
              "<PIL.JpegImagePlugin.JpegImageFile image mode=RGB size=120x40 at 0x7FBEF02E9F70>"
            ],
            "image/png": "[encoded data removed]"
          },
          "metadata": {}
        },
        {
          "output_type": "execute_result",
          "data": {
            "text/plain": [
              "'ASP.NET_SessionId=ac235blghenkvknnesidkq1a'"
            ],
            "application/vnd.google.colaboratory.intrinsic+json": {
              "type": "string"
            }
          },
          "metadata": {},
          "execution_count": 3
        }
      ]
    },
    {
      "cell_type": "code",
      "source": [
        "c = \"1701\""
      ],
      "metadata": {
        "id": "lrOXyNlMw5a5"
      },
      "execution_count": 4,
      "outputs": []
    },
    {
      "cell_type": "code",
      "source": [
        "url = \"https://www.gturesults.in/\"\n",
        "\n",
        "headers = {\n",
        "    \"Host\": \"www.gturesults.in\",\n",
        "    \"Content-Length\": \"10070\",\n",
        "    \"Cache-Control\": \"max-age=0\",\n",
        "    \"Sec-Ch-Ua\": \"\\\"Not A(Brand\\\";v=\\\"24\\\", \\\"Chromium\\\";v=\\\"110\\\"\",\n",
        "    \"Sec-Ch-Ua-Mobile\": \"?0\",\n",
        "    \"Sec-Ch-Ua-Platform\": \"\\\"Windows\\\"\",\n",
        "    \"Upgrade-Insecure-Requests\": \"1\",\n",
        "    \"Origin\": \"https://www.gturesults.in\",\n",
        "    \"Content-Type\": \"application/x-www-form-urlencoded\",\n",
        "    \"User-Agent\": \"Mozilla/5.0 (Windows NT 10.0; Win64; x64) AppleWebKit/537.36 (KHTML, like Gecko) Chrome/110.0.5481.78 Safari/537.36\",\n",
        "    \"Accept\": \"text/html,application/xhtml+xml,application/xml;q=0.9,image/avif,image/webp,image/apng,*/*;q=0.8,application/signed-exchange;v=b3;q=0.7\",\n",
        "    \"Sec-Fetch-Site\": \"same-origin\",\n",
        "    \"Sec-Fetch-Mode\": \"navigate\",\n",
        "    \"Sec-Fetch-User\": \"?1\",\n",
        "    \"Sec-Fetch-Dest\": \"document\",\n",
        "    \"Referer\": \"https://www.gturesults.in/\",\n",
        "    \"Accept-Encoding\": \"gzip, deflate\",\n",
        "    \"Accept-Language\": \"en-US,en;q=0.9\",\n",
        "    \"Cookie\": re.search(r'ASP.NET_SessionId=[^;]+', r.headers['Set-Cookie']).group()\n",
        "}\n",
        "\n",
        "kitoptions = {\n",
        "  \"enable-local-file-access\": None ,\n",
        "}"
      ],
      "metadata": {
        "id": "hAvP3ge_S0VJ"
      },
      "execution_count": 5,
      "outputs": []
    },
    {
      "cell_type": "code",
      "source": [
        "!rm -rf op\n",
        "!mkdir op"
      ],
      "metadata": {
        "id": "pMS5GYHWS7yk"
      },
      "execution_count": 7,
      "outputs": []
    },
    {
      "cell_type": "code",
      "source": [
        "def vtodur(enr):\n",
        "    try:\n",
        "        payload = f\"__EVENTTARGET=&__EVENTARGUMENT=&__VIEWSTATE=%2FwEPDwUKLTQ2MTAzMzcxNQ9kFgICAw9kFgwCAQ8WAh4EVGV4dAWTASA8YSBzdHlsZT0iY29sb3I6IGdyYXk7IGZvbnQtc2l6ZTogMTBweDsiIGhyZWY9IkRlZmF1bHQuYXNweD9leHQ9YXJjaGl2ZSI%2BQXJjaGl2ZTwvYT4gIHwgQ3VycmVudCA8c3BhbiBzdHlsZT0iY29sb3I6IG1hcm9vbjsiPiBbV2ludGVyIDIwMjJdPC9zcGFuPmQCAw8PFgIeB1Zpc2libGVoZGQCBQ8WAh8BaGQCBw8PFgIfAAULV2ludGVyIDIwMjJkZAIJDxBkZBYAZAILDxAPFgYeDkRhdGFHcm91cEZpZWxkBQZCUkFOQ0geDURhdGFUZXh0RmllbGQFBUVYQU1OHg5EYXRhVmFsdWVGaWVsZAUGRVhBTUlEZDK%2FNgABAAAA%2F%2F%2F%2F%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%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%2BAAAAHzM1MjAkVzIwMjIkMjAyMy0wMy0wMiRjdXJyZW50JDAGfwAAAB8zNTE5JFcyMDIyJDIwMjMtMDMtMDEkY3VycmVudCQwBoAAAAAfMzUxOCRXMjAyMiQyMDIzLTAyLTI4JGN1cnJlbnQkMAaBAAAAHzM1NTMkVzIwMjIkMjAyMy0wMy0yMCRjdXJyZW50JDAGggAAAB8zNTQ0JFcyMDIyJDIwMjMtMDMtMTAkY3VycmVudCQwBoMAAAAfMzU3MCRXMjAyMiQyMDIzLTA0LTAzJGN1cnJlbnQkMAaEAAAAHzM1NjMkVzIwMjIkMjAyMy0wMy0yMyRjdXJyZW50JDAGhQAAAB8zNTYyJFcyMDIyJDIwMjMtMDMtMjMkY3VycmVudCQwBoYAAAAfMzU1NiRXMjAyMiQyMDIzLTAzLTIwJGN1cnJlbnQkMAaHAAAAHzM1NTUkVzIwMjIkMjAyMy0wMy0yMCRjdXJyZW50JDAGiAAAAB8zNTMzJFcyMDIyJDIwMjMtMDMtMDkkY3VycmVudCQwBokAAAAfMzUzMCRXMjAyMiQyMDIzLTAzLTA3JGN1cnJlbnQkMAaKAAAAHzM1MjkkVzIwMjIkMjAyMy0wMy0wNyRjdXJyZW50JDAGiwAAAB8zNTI4JFcyMDIyJDIwMjMtMDMtMDckY3VycmVudCQwBowAAAAfMzUyNyRXMjAyMiQyMDIzLTAzLTA3JGN1cnJlbnQkMAaNAAAAHzM1MjYkVzIwMjIkMjAyMy0wMy0wNyRjdXJyZW50JDAGjgAAAB8zNTI1JFcyMDIyJDIwMjMtMDMtMDckY3VycmVudCQwBo8AAAAfMzUzNSRXMjAyMiQyMDIzLTAzLTEwJGN1cnJlbnQkMAaQAAAAHzM1MDkkVzIwMjIkMjAyMy0wMi0xNiRjdXJyZW50JDAGkQAAAB8zNTA4JFcyMDIyJDIwMjMtMDItMTYkY3VycmVudCQwBpIAAAAfMzUwNyRXMjAyMiQyMDIzLTAyLTA3JGN1cnJlbnQkMAaTAAAAHzM1MDYkVzIwMjIkMjAyMy0wMi0wNyRjdXJyZW50JDAGlAAAAB8zNTY4JFcyMDIyJDIwMjMtMDQtMDEkY3VycmVudCQwBpUAAAAfMzUxNCRXMjAyMiQyMDIzLTAyLTIyJGN1cnJlbnQkMAaWAAAAHzM1MTEkVzIwMjIkMjAyMy0wMi0xNiRjdXJyZW50JDAGlwAAAB8zNTEwJFcyMDIyJDIwMjMtMDItMTYkY3VycmVudCQwBpgAAAAfMzUwNSRXMjAyMiQyMDIzLTAyLTA3JGN1cnJlbnQkMAaZAAAAHzM1MDQkVzIwMjIkMjAyMy0wMi0wNyRjdXJyZW50JDAGmgAAAB8zNTE2JFcyMDIyJDIwMjMtMDItMjgkY3VycmVudCQwBpsAAAAfMzUzMiRXMjAyMiQyMDIzLTAzLTA5JGN1cnJlbnQkMAacAAAAHzM1MzEkVzIwMjIkMjAyMy0wMy0wNyRjdXJyZW50JDAGnQAAAB8zNTU0JFcyMDIyJDIwMjMtMDMtMjAkY3VycmVudCQwEQUAAABMAAAABp4AAAACQkEGnwAAAAJCQQagAAAAAkJBBqEAAAACQkUGogAAAAJCRQajAAAAAkJFBqQAAAACQkUGpQAAAAJCSAamAAAAAkJIBqcAAAACQkgGqAAAAANCUEgGqQAAAANCUEgGqgAAAANCUEgGqwAAAANCUEgGrAAAAANCUEgGrQAAAANCUEgGrgAAAAJEQQavAAAAAkRCBrAAAAAERElQTAaxAAAABERJUEwGsgAAAARESVBMBrMAAAAERElQTAa0AAAABERJUEwGtQAAAARESVBMBrYAAAACRFYGtwAAAAJEVga4AAAAAkRWBrkAAAACRFYGugAAAAJGRAa7AAAAAkZEBrwAAAACRkQGvQAAAAJGRAa%2BAAAAAklCBr8AAAACSUMGwAAAAAJJQwbBAAAAAklDBsIAAAACSUMGwwAAAAJJQwbEAAAAAklDBsUAAAACSUMGxgAAAANNQU0GxwAAAANNQU0GyAAAAANNQU0GyQAAAANNQU0GygAAAANNQU0GywAAAANNQU0GzAAAAANNQU0GzQAAAANNQkEGzgAAAANNQkEGzwAAAAxNQkEtUEFSVFRJTUUG0AAAAAxNQkEtUEFSVFRJTUUG0QAAAAxNQkEtUEFSVFRJTUUG0gAAAAxNQkEtUEFSVFRJTUUG0wAAAAxNQkEtUEFSVFRJTUUG1AAAAAxNQkEtUEFSVFRJTUUG1QAAAANNQ0EG1gAAAANNQ0EG1wAAAANNQ0EG2AAAAANNQ0EG2QAAAANNQ0EG2gAAAANNQ0EG2wAAAAJNRQbcAAAAAk1FBt0AAAACTUUG3gAAAAJNRQbfAAAAAk1FBuAAAAACTUgG4QAAAANNUEgG4gAAAANNUEgG4wAAAANNUEgG5AAAAANNUEgG5QAAAANNUEgG5gAAAAJNUgbnAAAAAlBCBugAAAACUEIG6QAAAARQRERDC2RkGAEFHl9fQ29udHJvbHNSZXF1aXJlUG9zdEJhY2tLZXlfXxYBBQZpbWdyZWZKYc70eHEZ72616cOOHotcL%2BGDAPa93Xpmn0sPdAUXQQ%3D%3D&__VIEWSTATEGENERATOR=CA0B0334&ddlbatch=3576%24W2022%242023-04-03%24current%240&txtenroll={enr}&txtSheetNo=&CodeNumberTextBox={c}&btnSearch=Search\"\n",
        "        imgkit.from_string(requests.request(\"POST\", url, data=payload, headers=headers).text,f'/content/op/{enr}.jpg',options=kitoptions)\n",
        "    except OSError as e:\n",
        "        pass\n",
        "\n",
        "with Pool(5) as pp:\n",
        "  pp.map(vtodur,range(190280111001,190280111010+1))"
      ],
      "metadata": {
        "id": "oZ_Dorc0gTjM"
      },
      "execution_count": 10,
      "outputs": []
    },
    {
      "cell_type": "code",
      "source": [
        "%%capture\n",
        "!zip -r op.zip op"
      ],
      "metadata": {
        "id": "ZGwbqIEJijew"
      },
      "execution_count": null,
      "outputs": []
    },
    {
      "cell_type": "markdown",
      "source": [
        "👈 download <font color='yellow'>op.zip</font> from left side bar by double clicking it"
      ],
      "metadata": {
        "id": "rmjRmivtlYK4"
      }
    }
  ]
}